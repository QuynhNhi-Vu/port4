{
 "cells": [
  {
   "cell_type": "markdown",
   "metadata": {},
   "source": [
    "# Portforlio Part 4 - Data Engineer Salary in 2024\n",
    "\n",
    "***About Dataset***\n",
    "\n",
    "This dataset provides insights into data engineer salaries and employment attributes for the year 2024. It includes information such as salary, job title, experience level, employment type, employee residence, remote work ratio, company location, and company size.\n",
    "\n",
    "The dataset allows for analysis of salary trends, employment patterns, and geographic variations in data engineering roles. It can be used by researchers, analysts, and organizations to understand the evolving landscape of data engineering employment and compensation.\n",
    "\n",
    "***Feature Description***\n",
    "\n"
   ]
  },
  {
   "cell_type": "markdown",
   "metadata": {},
   "source": [
    "\n",
    "|Column|Meaning|\n",
    "|:-----:|:-----:|\n",
    "|work_year|The year in which the data was collected (2024)|\n",
    "|experience_level|The experience level of the employee, SE (Senior Engineer), MI (Mid-Level Engineer), EL (Entry-Level Engineer)|\n",
    "|employment_type|The type of employment, full-time (FT), part-time (PT), contract (C), freelance (F)|\n",
    "|job_title|The title or role of the employee within the company (e.g., AI Engineer)|\n",
    "|salary|The salary of the employee in the local currency (e.g., 202,730 USD)|\n",
    "|salary_currency|The currency in which the salary is denominated (e.g., USD)|\n",
    "|salary_in_usd|The salary converted to US dollars for standardization purposes|\n",
    "|employee_residence|The country of residence of the employee|\n",
    "|remote_ratio|The ratio indicating the extent of remote work allowed in the position (0 for no remote work, 1 for fully remote)|\n",
    "|company_location|The location of the company where the employee is employed|\n",
    "|company_size|The size of the company, small (S), medium (M), large (L)|"
   ]
  },
  {
   "cell_type": "markdown",
   "metadata": {},
   "source": [
    "Complete the following requirements:\n",
    "\n",
    "1. ***Explore the data*** and ***clean the data if necessary***. For example, remove abnormal instanaces and replace missing values.\n",
    "\n",
    "2. ***Study the correlation*** between 'salary' with other features. And ***select the variables*** that you think are helpful for predicting the salary. We do not limit the number of variables.\n",
    "\n",
    "3. ***Split the dataset*** (Training set : Test set = 8 : 2)\n",
    "\n",
    "4. ***Train a logistic regression model*** to predict 'salary' based on the selected features (from the second step). ***Calculate the accuracy*** of your model. (You are required to report the accuracy from both training set and test set.) ***Explain your model and evaluate its performance*** (Is the model performing well? If yes, what factors might be contributing to the good performance of your model? If not, how can improvements be made?).\n"
   ]
  },
  {
   "cell_type": "code",
   "execution_count": null,
   "metadata": {},
   "outputs": [],
   "source": []
  },
  {
   "cell_type": "code",
   "execution_count": null,
   "metadata": {},
   "outputs": [],
   "source": []
  }
 ],
 "metadata": {
  "kernelspec": {
   "display_name": "Python 3",
   "language": "python",
   "name": "python3"
  },
  "language_info": {
   "codemirror_mode": {
    "name": "ipython",
    "version": 3
   },
   "file_extension": ".py",
   "mimetype": "text/x-python",
   "name": "python",
   "nbconvert_exporter": "python",
   "pygments_lexer": "ipython3",
   "version": "3.11.7"
  }
 },
 "nbformat": 4,
 "nbformat_minor": 2
}
